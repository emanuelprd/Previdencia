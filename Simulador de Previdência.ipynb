{
 "cells": [
  {
   "cell_type": "markdown",
   "id": "24a64be1",
   "metadata": {},
   "source": [
    "Bibliotecas"
   ]
  },
  {
   "cell_type": "code",
   "execution_count": 1,
   "id": "7f0d7f34",
   "metadata": {},
   "outputs": [],
   "source": [
    "import numpy as np\n",
    "import matplotlib.pyplot as plt"
   ]
  },
  {
   "cell_type": "markdown",
   "id": "c269e707",
   "metadata": {},
   "source": [
    "Regime Tributário"
   ]
  },
  {
   "cell_type": "code",
   "execution_count": 22,
   "id": "f8f9007f",
   "metadata": {
    "scrolled": true
   },
   "outputs": [],
   "source": [
    "#Tabela Progressiva IRPF > Faixa : Alíquota, Dedução\n",
    "tabela_progressiva = {2112.01: [0.075, 158.40],\n",
    "                      2826.66: [0.15, 370.40],\n",
    "                      3751.06: [0.225, 651.73],\n",
    "                      4664.68: [0.275, 884.96]}\n",
    "\n",
    "#Tabela Regressiva > Período : Alíquota\n",
    "tabela_regressiva = {0:[0.35],\n",
    "                     2:[0.30],\n",
    "                     4:[0.25],\n",
    "                     6:[0.20],\n",
    "                     8:[0.15],\n",
    "                     10:[0.10]}\n",
    "\n",
    "#Simulador de regime tributário ideal\n",
    "def Simulador_Tributário(renda_mensal,prazo_anos):\n",
    "    \n",
    "    global aliquota_progressiva\n",
    "    global valor\n",
    "    aliquota_progressiva = 0 \n",
    "    for faixa, valor in tabela_progressiva.items():\n",
    "        if renda_mensal > faixa:\n",
    "            aliquota_progressiva = valor[0]\n",
    "        else:\n",
    "            aliquota_progressiva = 0\n",
    "            \n",
    "    global aliquota_regressiva\n",
    "    aliquota_regressiva = 0     \n",
    "    for prazo_regressiva, aliq_regressiva in tabela_regressiva.items():\n",
    "        if prazo_anos > prazo_regressiva:\n",
    "            aliquota_regressiva = aliq_regressiva[0]\n",
    "        else:\n",
    "            break\n",
    "    return"
   ]
  },
  {
   "cell_type": "markdown",
   "id": "6e7e2bfe",
   "metadata": {},
   "source": [
    "Projeção de Saldo"
   ]
  },
  {
   "cell_type": "code",
   "execution_count": 23,
   "id": "c5f94008",
   "metadata": {},
   "outputs": [],
   "source": [
    "def Valor_Futuro(renda_mensal,juros_anual,prazo_anos):\n",
    "    \n",
    "        juros_mensal = (1 + juros_anual/100)**(1/12)-1\n",
    "        meses = prazo_anos*12\n",
    "\n",
    "        periodos = np.arange(0, meses+1)\n",
    "\n",
    "        saldo_final = []\n",
    "        valor_futuro = 0 \n",
    "\n",
    "        #Cálculo valor futuro com aportes mensais\n",
    "        for t in periodos:\n",
    "            valor_futuro = 0 \n",
    "            valor_futuro += aplicacao_mensal*((1+juros_mensal)**t - 1)/juros_mensal\n",
    "            saldo_final.append(valor_futuro)\n",
    "        \n",
    "        #Gráfico de Rentabilidade\n",
    "        plt.rcParams['font.family'] = 'monospace'\n",
    "        plt.rcParams['font.weight'] = 'normal'\n",
    "        plt.figure(figsize=(6, 3))\n",
    "        plt.plot(periodos, saldo_final, label=f'Total Acumulado: R$ {np.max(saldo_final):.2f}.')\n",
    "        plt.ticklabel_format(style='plain')\n",
    "        plt.xlabel('Períodos (meses)')\n",
    "        plt.ylabel('Total Acumulado (R$)')\n",
    "        plt.title('Evolução do saldo ao longo do tempo', fontsize=10)\n",
    "        plt.legend()\n",
    "        plt.grid(True)\n",
    "        plt.show()\n",
    "        return plt"
   ]
  },
  {
   "cell_type": "markdown",
   "id": "453ad933",
   "metadata": {},
   "source": [
    "Simulador do Usuário"
   ]
  },
  {
   "cell_type": "code",
   "execution_count": 26,
   "id": "0bb7cf67",
   "metadata": {},
   "outputs": [
    {
     "name": "stdout",
     "output_type": "stream",
     "text": [
      "\n",
      "-----------------------Insira as informações abaixo-----------------------\n",
      "\n",
      "Qual a sua renda mensal? \n",
      "Renda: R$ 10000\n",
      "\n",
      "Quanto está disposto aplicar por mês? \n",
      "Renda: R$ 2000\n",
      "\n",
      "Qual é a sua expectativa de rentabilidade anual? (Formato: 10% = 10) \n",
      "Taxa: 10\n",
      "\n",
      "Por quantos anos pretende investir? \n",
      "Anos:10\n",
      "\n",
      "--------------Vamos escolher a melhor modalidade pra você.--------------\n",
      "Você usa modelo completo ou simplificado na declaração de imposto de renda? \n",
      "    \n",
      "1 - Completo \n",
      "2 - Simplificado \n",
      "    \n",
      "Eu uso o modelo (1 ou 2): 1\n",
      "\n",
      "-------------------------------Modelo Ideal-------------------------------\n",
      "\n",
      "O PGBL é a modalidade mais indicada para você!\n",
      "\n",
      "--------------------------------Resultado---------------------------------\n",
      "\n",
      "A sua renda anual tributável é de R$ 120000.00.\n",
      "Alíquota de IR: 27.50 %.\n",
      "IR a pagar sem PGBL R$ 22380.48.\n",
      "IR a pagar com PGBL R$ 18420.48.\n",
      "O aporte sugerido em PGBL é de R$ 14400.00 ao ano ou R$ 1200.00 por mês.\n",
      "Você deve aplicar R$ 1200.0 em PGBL e R$ 800.00 em VGBL.\n",
      "Sua economia fiscal será de R$ 3960.00 ao ano e R$ 39600.00 ao longo do período!\n",
      "\n",
      "------------------------------Alíquota Ideal------------------------------\n",
      "\n",
      "Aliquota Progressiva 27.50 %.\n",
      "Aliquota Regressiva 15.00 %.\n",
      "A tabela mais indicada é a regressiva.\n",
      "\n",
      "----------------------------Gráfico de Retorno----------------------------\n"
     ]
    },
    {
     "data": {
      "image/png": "[encoded data removed]",
      "text/plain": [
       "<Figure size 600x300 with 1 Axes>"
      ]
     },
     "metadata": {},
     "output_type": "display_data"
    },
    {
     "data": {
      "text/plain": [
       "<module 'matplotlib.pyplot' from 'C:\\\\Users\\\\emanu\\\\anaconda3\\\\Lib\\\\site-packages\\\\matplotlib\\\\pyplot.py'>"
      ]
     },
     "execution_count": 26,
     "metadata": {},
     "output_type": "execute_result"
    }
   ],
   "source": [
    "print(\"\\n\"+\"-\"*23+\"Insira as informações abaixo\"+\"-\"*23)    \n",
    "\n",
    "#Informações do Usuário\n",
    "renda_mensal = float(input(\"\\nQual a sua renda mensal? \\nRenda: R$ \"))\n",
    "aplicacao_mensal = float(input(\"\\nQuanto está disposto aplicar por mês? \\nRenda: R$ \"))\n",
    "juros_anual = float(input(\"\\nQual é a sua expectativa de rentabilidade anual? (Formato: 10% = 10) \\nTaxa: \"))\n",
    "prazo_anos = float(input(\"\\nPor quantos anos pretende investir? \\nAnos:\"))\n",
    "\n",
    "#Modalidade Ideal > PGBL & VGBL\n",
    "while True:\n",
    "\n",
    "    print(\"\\n\"+\"-\"*14+\"Vamos escolher a melhor modalidade pra você.\"+\"-\"*14)    \n",
    "    \n",
    "    #Modelo de Declaração do IRPF\n",
    "    modelo_declaracao = str(input(\"\"\"Você usa modelo completo ou simplificado na declaração de imposto de renda? \n",
    "    \\n1 - Completo \\n2 - Simplificado \n",
    "    \\nEu uso o modelo (1 ou 2): \"\"\"))\n",
    "    \n",
    "    print_modelo = print(\"\\n\"+\"-\"*31+\"Modelo Ideal\"+\"-\"*31)\n",
    "                        \n",
    "    #Modelo Completo de IR\n",
    "    if modelo_declaracao == \"1\":\n",
    "           \n",
    "        print_modelo\n",
    "        print(\"\\nO PGBL é a modalidade mais indicada para você!\")\n",
    "        \n",
    "        renda_anual = renda_mensal*12\n",
    "        \n",
    "        #Dedução máxima PGBL ~ 12%\n",
    "        deducao_pgbl = renda_anual*0.12\n",
    "        \n",
    "        print(\"\\n\"+\"-\"*32+\"Resultado\"+\"-\"*33)\n",
    "        \n",
    "        #loop que verifica qual faixa de IR o usuário está sujeito\n",
    "        Simulador_Tributário(renda_mensal,prazo_anos)\n",
    "        \n",
    "        if aliquota_progressiva > 0:\n",
    "\n",
    "                aliquota_cobrada = valor[0]\n",
    "                deducao_anual = valor[1]*12\n",
    "                \n",
    "                sem_pgbl = renda_anual*aliquota_cobrada-deducao_anual\n",
    "                com_pgbl = (renda_anual-deducao_pgbl)*aliquota_cobrada-deducao_anual\n",
    "                \n",
    "                economia = sem_pgbl - com_pgbl\n",
    "                \n",
    "                print(f\"\\nA sua renda anual tributável é de R$ {renda_anual:.2f}.\")\n",
    "                print(f\"Alíquota de IR: {aliquota_cobrada*100:.2f} %.\")\n",
    "                print(f\"IR a pagar sem PGBL R$ {sem_pgbl:.2f}.\")\n",
    "                print(f\"IR a pagar com PGBL R$ {com_pgbl:.2f}.\")\n",
    "                print(f\"O aporte sugerido em PGBL é de R$ {deducao_pgbl:.2f} ao ano ou R$ {(deducao_pgbl/12):.2f} por mês.\")\n",
    "                if renda_mensal*0.12 > aplicacao_mensal:\n",
    "                    print(f\"Você deve aplicar mais R$ {(renda_mensal*0.12-aplicacao_mensal):.2f} para obter todo o benefício fiscal.\")\n",
    "                else:\n",
    "                    print(f\"Você deve aplicar R$ {renda_mensal*0.12} em PGBL e R$ {(aplicacao_mensal-renda_mensal*0.12):.2f} em VGBL.\")\n",
    "                print(f\"Sua economia fiscal será de R$ {economia:.2f} ao ano e R$ {economia*prazo_anos:.2f} ao longo do período!\")\n",
    "                break\n",
    "            \n",
    "        else:\n",
    "                print(f\"\\nA renda mensal de R$ {renda_mensal:.2f} é isento de IR, não há deduções fiscais possíveis.\")\n",
    "                break\n",
    "        break\n",
    "        \n",
    "    #Modelo Simplificado de IR\n",
    "    elif modelo_declaracao == \"2\":\n",
    "        \n",
    "        print_modelo\n",
    "        print(\"\\nO VGBL é a modalidade mais indicado para você!\")\n",
    "        \n",
    "        break\n",
    "    \n",
    "    #Erro\n",
    "    else:\n",
    "        print(\"\\nFavor inserir uma opção válida.\")\n",
    "\n",
    "#Regime Tributário        \n",
    "\n",
    "print(\"\\n\"+\"-\"*30+\"Alíquota Ideal\"+\"-\"*30)                \n",
    "\n",
    "Simulador_Tributário(renda_mensal,prazo_anos)\n",
    "\n",
    "print(f\"\\nAliquota Progressiva {aliquota_progressiva*100:.2f} %.\")        \n",
    "print(f\"Aliquota Regressiva {aliquota_regressiva*100:.2f} %.\")\n",
    "\n",
    "if aliquota_progressiva < aliquota_regressiva:\n",
    "    print(f\"A tabela mais indicada é a progressiva.\")\n",
    "else:\n",
    "    print(f\"A tabela mais indicada é a regressiva.\")\n",
    "\n",
    "#Saldo Acumulado\n",
    "\n",
    "print(\"\\n\"+\"-\"*28+\"Gráfico de Retorno\"+\"-\"*28)  \n",
    "\n",
    "Valor_Futuro(renda_mensal,juros_anual,prazo_anos)"
   ]
  }
 ],
 "metadata": {
  "kernelspec": {
   "display_name": "Python 3 (ipykernel)",
   "language": "python",
   "name": "python3"
  },
  "language_info": {
   "codemirror_mode": {
    "name": "ipython",
    "version": 3
   },
   "file_extension": ".py",
   "mimetype": "text/x-python",
   "name": "python",
   "nbconvert_exporter": "python",
   "pygments_lexer": "ipython3",
   "version": "3.11.3"
  }
 },
 "nbformat": 4,
 "nbformat_minor": 5
}
